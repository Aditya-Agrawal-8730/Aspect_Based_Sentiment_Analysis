{
 "cells": [
  {
   "cell_type": "markdown",
   "metadata": {},
   "source": [
    "# Preparing Data for [ABSApp](https://github.com/IntelLabs/nlp-architect/tree/master/solutions/absa_solution)."
   ]
  },
  {
   "cell_type": "code",
   "execution_count": 1,
   "metadata": {},
   "outputs": [],
   "source": [
    "from ABSApp_Preparation import file_no_preprocessing, file_preprocessing"
   ]
  },
  {
   "cell_type": "code",
   "execution_count": 2,
   "metadata": {},
   "outputs": [
    {
     "name": "stdout",
     "output_type": "stream",
     "text": [
      "Original File Shape - (47883, 10)\n",
      "Null text rows removed - 4\n",
      "Processed File Shape - (47879, 1)\n"
     ]
    }
   ],
   "source": [
    "file_no_preprocessing(\n",
    "    read_path=\"csv_files\\TikTok_quitvaping_combined_cmts_20230227 (1).csv\",\n",
    "    text_column_name=\"text\",\n",
    "    save_path=\"output_files\\TikTok_quitvaping_combined_cmts_20230227_ABSApp.csv\"\n",
    ")"
   ]
  },
  {
   "cell_type": "code",
   "execution_count": 3,
   "metadata": {},
   "outputs": [
    {
     "name": "stdout",
     "output_type": "stream",
     "text": [
      "Original File Shape - (47883, 10)\n",
      "Null text rows removed - 4\n",
      "Processed File Shape - (47879, 1)\n"
     ]
    }
   ],
   "source": [
    "file_preprocessing(\n",
    "    read_path=\"csv_files\\TikTok_quitvaping_combined_cmts_20230227 (1).csv\",\n",
    "    text_column_name=\"text\",\n",
    "    save_path=\"output_files\\TikTok_quitvaping_combined_cmts_20230227_ABSApp_pre_proc.csv\"\n",
    ")"
   ]
  },
  {
   "cell_type": "markdown",
   "metadata": {},
   "source": [
    "# Aspects List"
   ]
  },
  {
   "cell_type": "code",
   "execution_count": 1,
   "metadata": {},
   "outputs": [],
   "source": [
    "aspect_categories_names = {1:\"Vape/vaping\", 2:\"Quitting\", 3:\"The video/account\", 4:\"Health\", 5:\"Chemicals\",\\\n",
    "                           6:\"Addiction\", 7:\"Finance\", 8:\"Other tobacco/substance\"}\n",
    "\n",
    "aspect_categories = {1:[\"vapes\",\"vape\",\"vaping\",\"hits\",\"hit\",\"carts\",\"cart\",\"puffs\",\"puff\",\"juice\",\"pods\",\"pod\",\"vape juice\",\"bars\",\"bar\",\"flavor\",\"liquid\"],\\\n",
    "                     2:[\"quit\",\"journey\",\"choice\",\"quitting\",\"decisions\",\"decision\"],\\\n",
    "                     3:[\"videos\",\"video\",\"dude\",\"bro\",\"man\",\"girl\",\"brother\"],\\\n",
    "                     4:[\"lungs\",\"lung\",\"health\",\"skin\",\"cough\",\"body\",\"teeth\",\"tooth\",\"throat\"],\\\n",
    "                     5:[\"chemicals\"],\\\n",
    "                     6:[\"addiction\",\"cravings\",\"craving\",\"nicotine\",\"urge\"],\\\n",
    "                     7:[\"money\"],\\\n",
    "                     8:[\"cigs\",\"cig\",\"smoking\",\"drugs\",\"drug\",\"cigarettes\",\"cigarette\",\"drinking\",\"tobacco\",\"pouches\",\"pouch\"]}"
   ]
  },
  {
   "cell_type": "markdown",
   "metadata": {},
   "source": [
    "# deBERTa"
   ]
  },
  {
   "cell_type": "code",
   "execution_count": 2,
   "metadata": {},
   "outputs": [
    {
     "name": "stderr",
     "output_type": "stream",
     "text": [
      "c:\\Users\\adity\\Visual Studio Code - i3simulations\\Virtual_Environments\\venv_BU_2406_03\\lib\\site-packages\\tqdm\\auto.py:21: TqdmWarning: IProgress not found. Please update jupyter and ipywidgets. See https://ipywidgets.readthedocs.io/en/stable/user_install.html\n",
      "  from .autonotebook import tqdm as notebook_tqdm\n"
     ]
    },
    {
     "name": "stdout",
     "output_type": "stream",
     "text": [
      "Is GPU available- False\n",
      "Device Used - cpu\n"
     ]
    },
    {
     "name": "stderr",
     "output_type": "stream",
     "text": [
      "c:\\Users\\adity\\Visual Studio Code - i3simulations\\Virtual_Environments\\venv_BU_2406_03\\lib\\site-packages\\transformers\\convert_slow_tokenizer.py:560: UserWarning: The sentencepiece tokenizer that you are converting to a fast tokenizer uses the byte fallback option which is not implemented in the fast tokenizers. In practice this means that the fast version of the tokenizer can produce unknown tokens whereas the sentencepiece version would have converted these unknown tokens into a sequence of byte tokens matching the original piece of text.\n",
      "  warnings.warn(\n",
      "c:\\Users\\adity\\Visual Studio Code - i3simulations\\Virtual_Environments\\venv_BU_2406_03\\lib\\site-packages\\huggingface_hub\\file_download.py:1132: FutureWarning: `resume_download` is deprecated and will be removed in version 1.0.0. Downloads always resume when possible. If you want to force a new download, use `force_download=True`.\n",
      "  warnings.warn(\n"
     ]
    }
   ],
   "source": [
    "import DeBERTa"
   ]
  },
  {
   "cell_type": "code",
   "execution_count": 3,
   "metadata": {},
   "outputs": [
    {
     "name": "stdout",
     "output_type": "stream",
     "text": [
      "Sentence: We had a great experience at the restaurant, food was delicious, but the service was kinda bad\n",
      "\n",
      "Sentiment of aspect 'food' is:\n",
      "Label negative: 0.0009989123791456223\n",
      "Label neutral: 0.0018238142365589738\n",
      "Label positive: 0.997177243232727\n",
      "\n",
      "Sentiment of aspect 'service' is:\n",
      "Label negative: 0.9946129322052002\n",
      "Label neutral: 0.002369985682889819\n",
      "Label positive: 0.003017079783603549\n",
      "\n"
     ]
    }
   ],
   "source": [
    "DeBERTa.print_deberta_examples()"
   ]
  },
  {
   "cell_type": "code",
   "execution_count": 4,
   "metadata": {},
   "outputs": [
    {
     "name": "stdout",
     "output_type": "stream",
     "text": [
      "Original File Shape - (47883, 10)\n",
      "Processing Text......\n",
      "Processed File Shape - (47879, 11)\n",
      "Progress = 0/20\n",
      "20 rows processed. Completed.\n",
      "Sentiments & Confidence Scores Generated\n",
      "File with sentiment & confidence scores saved. Shape=(20, 37)\n",
      "Series([], Name: count, dtype: int64)\n",
      "Series([], Name: count, dtype: int64)\n",
      "File with confidence scores combined saved. Shape=(20, 37)\n",
      "File with group counts of categories & sentiment. Shape=(0, 2)\n"
     ]
    }
   ],
   "source": [
    "DeBERTa.main(\n",
    "    read_path = \"csv_files\\TikTok_quitvaping_combined_cmts_20230227 (1).csv\",\n",
    "    text_column_name = \"text\", \n",
    "    aspect_categories= aspect_categories,\n",
    "    save_path_1 = \"output_files\\TikTok_quitvaping_combined_cmts_DeBERTa_category_list_06_05.csv\", \n",
    "    save_path_2 = \"output_files\\TikTok_quitvaping_combined_cmts_DeBERTa_category_average_06_05.csv\", \n",
    "    save_path_3 = \"output_files\\TikTok_quitvaping_combined_cmts_DeBERTa_category_aspect_count_06_05.csv\"\n",
    "    )"
   ]
  }
 ],
 "metadata": {
  "kernelspec": {
   "display_name": "venv_BU_2406_05",
   "language": "python",
   "name": "python3"
  },
  "language_info": {
   "codemirror_mode": {
    "name": "ipython",
    "version": 3
   },
   "file_extension": ".py",
   "mimetype": "text/x-python",
   "name": "python",
   "nbconvert_exporter": "python",
   "pygments_lexer": "ipython3",
   "version": "3.8.5"
  }
 },
 "nbformat": 4,
 "nbformat_minor": 2
}
